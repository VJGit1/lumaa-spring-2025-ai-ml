{
 "cells": [
  {
   "cell_type": "markdown",
   "id": "03e2cb8f-7b72-4c12-8762-e39fca570646",
   "metadata": {},
   "source": [
    "Dataset:\n",
    "\n",
    "https://www.kaggle.com/datasets/arpansri/books-summary/data\n"
   ]
  },
  {
   "cell_type": "markdown",
   "id": "70b26881-b0f0-4cfb-9885-eda3608f7826",
   "metadata": {},
   "source": [
    "Importing Libraries"
   ]
  },
  {
   "cell_type": "code",
   "execution_count": 10,
   "id": "8bc878e9-faec-42c4-883a-5361a053c67d",
   "metadata": {},
   "outputs": [],
   "source": [
    "import pandas as pd\n",
    "import numpy as np\n",
    "from sklearn.feature_extraction.text import TfidfVectorizer\n",
    "from sklearn.metrics.pairwise import cosine_similarity"
   ]
  },
  {
   "cell_type": "markdown",
   "id": "604149e2-edec-486f-a0ad-3b3a6746cfad",
   "metadata": {},
   "source": [
    "Load the Dataset"
   ]
  },
  {
   "cell_type": "code",
   "execution_count": 16,
   "id": "e2ee8d44-17eb-4a08-8951-fd354fd815a0",
   "metadata": {},
   "outputs": [
    {
     "name": "stdout",
     "output_type": "stream",
     "text": [
      "   Unnamed: 0                            book_name  \\\n",
      "0           0          The Highly Sensitive Person   \n",
      "1           1  Why Has Nobody Told Me This Before?   \n",
      "2           2                 The Midnight Library   \n",
      "3           3                      Brave New World   \n",
      "4           4                                 1984   \n",
      "\n",
      "                                           summaries categories  \n",
      "0   is a self-assessment guide and how-to-live te...    science  \n",
      "1   is a collection of a clinical psychologist’s ...    science  \n",
      "2   tells the story of Nora, a depressed woman in...    science  \n",
      "3   presents a futuristic society engineered perf...    science  \n",
      "4   is the story of a man questioning the system ...    science  \n"
     ]
    }
   ],
   "source": [
    "df = pd.read_csv(\"C:\\\\Users\\\\vaiju\\\\Documents\\\\Spring_2025\\\\DSA\\\\BooksSummary\\\\books_summary.csv\")  \n",
    "print(df.head())\n"
   ]
  },
  {
   "cell_type": "code",
   "execution_count": 25,
   "id": "64a25093-a3cc-48ce-93c8-e6ea2fdb5af8",
   "metadata": {},
   "outputs": [
    {
     "name": "stdout",
     "output_type": "stream",
     "text": [
      "<class 'pandas.core.frame.DataFrame'>\n",
      "Index: 5194 entries, 0 to 5200\n",
      "Data columns (total 4 columns):\n",
      " #   Column      Non-Null Count  Dtype \n",
      "---  ------      --------------  ----- \n",
      " 0   Unnamed: 0  5194 non-null   int64 \n",
      " 1   title       5194 non-null   object\n",
      " 2   summary     5194 non-null   object\n",
      " 3   categories  5194 non-null   object\n",
      "dtypes: int64(1), object(3)\n",
      "memory usage: 202.9+ KB\n"
     ]
    }
   ],
   "source": [
    "df.info()"
   ]
  },
  {
   "cell_type": "code",
   "execution_count": 29,
   "id": "342d867d-e0c0-40e2-8672-1355ce2dfb22",
   "metadata": {},
   "outputs": [
    {
     "data": {
      "text/plain": [
       "Unnamed: 0     int64\n",
       "title         object\n",
       "summary       object\n",
       "categories    object\n",
       "dtype: object"
      ]
     },
     "execution_count": 29,
     "metadata": {},
     "output_type": "execute_result"
    }
   ],
   "source": [
    "df.dtypes"
   ]
  },
  {
   "cell_type": "markdown",
   "id": "e26fd0ee-cd47-4c54-952f-6db8ca319aff",
   "metadata": {},
   "source": [
    "Data Preprocessing"
   ]
  },
  {
   "cell_type": "code",
   "execution_count": 33,
   "id": "cf31d70c-0530-4f6b-b0d8-99426ac108d5",
   "metadata": {},
   "outputs": [
    {
     "name": "stdout",
     "output_type": "stream",
     "text": [
      "   ID                                title  \\\n",
      "0   0          The Highly Sensitive Person   \n",
      "1   1  Why Has Nobody Told Me This Before?   \n",
      "2   2                 The Midnight Library   \n",
      "3   3                      Brave New World   \n",
      "4   4                                 1984   \n",
      "\n",
      "                                             summary categories  \n",
      "0   is a self-assessment guide and how-to-live te...    science  \n",
      "1   is a collection of a clinical psychologist’s ...    science  \n",
      "2   tells the story of Nora, a depressed woman in...    science  \n",
      "3   presents a futuristic society engineered perf...    science  \n",
      "4   is the story of a man questioning the system ...    science  \n"
     ]
    }
   ],
   "source": [
    "df.rename(columns={'Unnamed: 0': 'ID'}, inplace=True)\n",
    "\n",
    "print(df.head())"
   ]
  },
  {
   "cell_type": "code",
   "execution_count": 35,
   "id": "47346195-174f-472f-ba12-08ec83fb4462",
   "metadata": {},
   "outputs": [
    {
     "data": {
      "text/html": [
       "<div>\n",
       "<style scoped>\n",
       "    .dataframe tbody tr th:only-of-type {\n",
       "        vertical-align: middle;\n",
       "    }\n",
       "\n",
       "    .dataframe tbody tr th {\n",
       "        vertical-align: top;\n",
       "    }\n",
       "\n",
       "    .dataframe thead th {\n",
       "        text-align: right;\n",
       "    }\n",
       "</style>\n",
       "<table border=\"1\" class=\"dataframe\">\n",
       "  <thead>\n",
       "    <tr style=\"text-align: right;\">\n",
       "      <th></th>\n",
       "      <th>ID</th>\n",
       "      <th>title</th>\n",
       "      <th>summary</th>\n",
       "      <th>categories</th>\n",
       "    </tr>\n",
       "  </thead>\n",
       "  <tbody>\n",
       "    <tr>\n",
       "      <th>0</th>\n",
       "      <td>0</td>\n",
       "      <td>The Highly Sensitive Person</td>\n",
       "      <td>is a self-assessment guide and how-to-live te...</td>\n",
       "      <td>science</td>\n",
       "    </tr>\n",
       "    <tr>\n",
       "      <th>1</th>\n",
       "      <td>1</td>\n",
       "      <td>Why Has Nobody Told Me This Before?</td>\n",
       "      <td>is a collection of a clinical psychologist’s ...</td>\n",
       "      <td>science</td>\n",
       "    </tr>\n",
       "    <tr>\n",
       "      <th>2</th>\n",
       "      <td>2</td>\n",
       "      <td>The Midnight Library</td>\n",
       "      <td>tells the story of Nora, a depressed woman in...</td>\n",
       "      <td>science</td>\n",
       "    </tr>\n",
       "    <tr>\n",
       "      <th>3</th>\n",
       "      <td>3</td>\n",
       "      <td>Brave New World</td>\n",
       "      <td>presents a futuristic society engineered perf...</td>\n",
       "      <td>science</td>\n",
       "    </tr>\n",
       "    <tr>\n",
       "      <th>4</th>\n",
       "      <td>4</td>\n",
       "      <td>1984</td>\n",
       "      <td>is the story of a man questioning the system ...</td>\n",
       "      <td>science</td>\n",
       "    </tr>\n",
       "  </tbody>\n",
       "</table>\n",
       "</div>"
      ],
      "text/plain": [
       "   ID                                title  \\\n",
       "0   0          The Highly Sensitive Person   \n",
       "1   1  Why Has Nobody Told Me This Before?   \n",
       "2   2                 The Midnight Library   \n",
       "3   3                      Brave New World   \n",
       "4   4                                 1984   \n",
       "\n",
       "                                             summary categories  \n",
       "0   is a self-assessment guide and how-to-live te...    science  \n",
       "1   is a collection of a clinical psychologist’s ...    science  \n",
       "2   tells the story of Nora, a depressed woman in...    science  \n",
       "3   presents a futuristic society engineered perf...    science  \n",
       "4   is the story of a man questioning the system ...    science  "
      ]
     },
     "execution_count": 35,
     "metadata": {},
     "output_type": "execute_result"
    }
   ],
   "source": [
    "df.rename(columns={'book_name': 'title', 'summaries': 'summary'}, inplace=True)\n",
    "\n",
    "df.head()\n"
   ]
  },
  {
   "cell_type": "code",
   "execution_count": 43,
   "id": "c9b5b22f-fd42-4453-a207-cc93fbf6cf27",
   "metadata": {},
   "outputs": [
    {
     "name": "stdout",
     "output_type": "stream",
     "text": [
      "                                 title  \\\n",
      "0          The Highly Sensitive Person   \n",
      "1  Why Has Nobody Told Me This Before?   \n",
      "2                 The Midnight Library   \n",
      "3                      Brave New World   \n",
      "4                                 1984   \n",
      "\n",
      "                                             summary  \n",
      "0   is a self-assessment guide and how-to-live te...  \n",
      "1   is a collection of a clinical psychologist’s ...  \n",
      "2   tells the story of Nora, a depressed woman in...  \n",
      "3   presents a futuristic society engineered perf...  \n",
      "4   is the story of a man questioning the system ...  \n"
     ]
    }
   ],
   "source": [
    "df = df[['title', 'summary']].dropna()\n",
    "print(df.head())\n"
   ]
  },
  {
   "cell_type": "markdown",
   "id": "06ac1a75-b3f1-4cb3-bed0-472abc07813c",
   "metadata": {},
   "source": [
    "Transform the text data to vectors"
   ]
  },
  {
   "cell_type": "code",
   "execution_count": 48,
   "id": "b9895e8a-6a74-453a-a818-1a3ee68cbdb9",
   "metadata": {},
   "outputs": [
    {
     "name": "stdout",
     "output_type": "stream",
     "text": [
      "(5194, 4790)\n"
     ]
    }
   ],
   "source": [
    "# Initialize the TF-IDF Vectorizer\n",
    "tfidf = TfidfVectorizer(stop_words='english')\n",
    "\n",
    "# Fit and transform the book summaries\n",
    "tfidf_matrix = tfidf.fit_transform(df['summary'])\n",
    "print(tfidf_matrix.shape)\n"
   ]
  },
  {
   "cell_type": "markdown",
   "id": "9a926eff-b255-44e7-bf2b-28121c39f78a",
   "metadata": {},
   "source": [
    "Compute Similarity"
   ]
  },
  {
   "cell_type": "code",
   "execution_count": 51,
   "id": "53ab975f-e6c7-4c41-a13a-4a4d526907d4",
   "metadata": {},
   "outputs": [],
   "source": [
    "# Compute the cosine similarity matrix\n",
    "cosine_sim = cosine_similarity(tfidf_matrix, tfidf_matrix)\n"
   ]
  },
  {
   "cell_type": "markdown",
   "id": "0f2d3452-c5f4-4293-9d27-16ccf76f4666",
   "metadata": {},
   "source": [
    "Recommendation Function"
   ]
  },
  {
   "cell_type": "code",
   "execution_count": 65,
   "id": "27e78d84-8bac-4efd-82b1-7e6d618eb051",
   "metadata": {},
   "outputs": [
    {
     "name": "stdout",
     "output_type": "stream",
     "text": [
      "Title: Lean In, Similarity Score: 0.19\n",
      "Title: What They Don’t Teach You At Harvard Business School, Similarity Score: 0.18\n"
     ]
    }
   ],
   "source": [
    "def get_recommendations(query, df, tfidf, cosine_sim):\n",
    "    # Transform the query using the same TF-IDF vectorizer\n",
    "    query_tfidf = tfidf.transform([query])\n",
    "    \n",
    "    # Compute cosine similarity between the query and the dataset\n",
    "    sim_scores = cosine_similarity(query_tfidf, tfidf_matrix)\n",
    "    \n",
    "    # Get the indices of the top 5 most similar books\n",
    "    sim_scores = sim_scores.flatten()\n",
    "    top_indices = sim_scores.argsort()[-10:][::-1]\n",
    "    \n",
    "    # Filter out duplicate recommendations\n",
    "    seen_titles = set()\n",
    "    recommendations = []\n",
    "    for i in top_indices:\n",
    "        title = df.iloc[i]['title']\n",
    "        if title not in seen_titles:\n",
    "            recommendations.append((title, sim_scores[i]))\n",
    "            seen_titles.add(title)\n",
    "        if len(recommendations) >= 5:\n",
    "            break\n",
    "    \n",
    "    return recommendations\n",
    "\n",
    "# Example query\n",
    "query = \"I love fantasy books with magical worlds and strong female protagonists.\"\n",
    "recommendations = get_recommendations(query, df, tfidf, cosine_sim)\n",
    "for title, score in recommendations:\n",
    "    print(f'Title: {title}, Similarity Score: {score:.2f}')\n"
   ]
  },
  {
   "cell_type": "code",
   "execution_count": 69,
   "id": "043c395c-5645-4c5d-8b7c-ec71f822f891",
   "metadata": {},
   "outputs": [
    {
     "name": "stdout",
     "output_type": "stream",
     "text": [
      "Title: How To Read A Book, Similarity Score: 0.21\n",
      "Title: How to Take Smart Notes, Similarity Score: 0.20\n",
      "Title: The Charisma Myth, Similarity Score: 0.18\n"
     ]
    }
   ],
   "source": [
    "# Example query\n",
    "query = \"I love and enjoy reading self help books. They develop my personality\"\n",
    "recommendations = get_recommendations(query, df, tfidf, cosine_sim)\n",
    "for title, score in recommendations:\n",
    "    print(f'Title: {title}, Similarity Score: {score:.2f}')\n"
   ]
  },
  {
   "cell_type": "code",
   "execution_count": null,
   "id": "ce8b6908-3d50-4c7a-bff1-421c0d6870ba",
   "metadata": {},
   "outputs": [],
   "source": []
  }
 ],
 "metadata": {
  "kernelspec": {
   "display_name": "Python 3 (ipykernel)",
   "language": "python",
   "name": "python3"
  },
  "language_info": {
   "codemirror_mode": {
    "name": "ipython",
    "version": 3
   },
   "file_extension": ".py",
   "mimetype": "text/x-python",
   "name": "python",
   "nbconvert_exporter": "python",
   "pygments_lexer": "ipython3",
   "version": "3.12.4"
  }
 },
 "nbformat": 4,
 "nbformat_minor": 5
}
